{
 "cells": [
  {
   "cell_type": "code",
   "execution_count": 26,
   "metadata": {},
   "outputs": [],
   "source": [
    "import requests\n",
    "import pandas as pd\n",
    "import matplotlib.pyplot as plt\n",
    "\n",
    "%matplotlib inline"
   ]
  },
  {
   "cell_type": "code",
   "execution_count": 27,
   "metadata": {},
   "outputs": [],
   "source": [
    "# nashville.gov dchaniott@gmail.com\n",
    "app_token = 'JrYJ8IS8gJi6OYRRvlnpMjR7o'\n",
    "# nashville.gov 500 top monthly searches\n",
    "endpoint = 'https://data.nashville.gov/resource/fuaa-r5cm.json'"
   ]
  },
  {
   "cell_type": "code",
   "execution_count": 28,
   "metadata": {},
   "outputs": [
    {
     "data": {
      "text/plain": [
       "[{'month_name': 'January',\n",
       "  'year': '2016',\n",
       "  'query_count': '19',\n",
       "  'query_text': 'fire'},\n",
       " {'month_name': 'February',\n",
       "  'year': '2016',\n",
       "  'query_count': '35',\n",
       "  'query_text': 'fire'},\n",
       " {'month_name': 'March',\n",
       "  'year': '2016',\n",
       "  'query_count': '32',\n",
       "  'query_text': 'fire'},\n",
       " {'month_name': 'April',\n",
       "  'year': '2016',\n",
       "  'query_count': '26',\n",
       "  'query_text': 'fire'},\n",
       " {'month_name': 'May',\n",
       "  'year': '2016',\n",
       "  'query_count': '24',\n",
       "  'query_text': 'fire'},\n",
       " {'month_name': 'June',\n",
       "  'year': '2016',\n",
       "  'query_count': '31',\n",
       "  'query_text': 'fire'},\n",
       " {'month_name': 'July',\n",
       "  'year': '2016',\n",
       "  'query_count': '24',\n",
       "  'query_text': 'fire'},\n",
       " {'month_name': 'August',\n",
       "  'year': '2016',\n",
       "  'query_count': '47',\n",
       "  'query_text': 'fire'},\n",
       " {'month_name': 'September',\n",
       "  'year': '2016',\n",
       "  'query_count': '36',\n",
       "  'query_text': 'fire'},\n",
       " {'month_name': 'October',\n",
       "  'year': '2016',\n",
       "  'query_count': '38',\n",
       "  'query_text': 'fire'},\n",
       " {'month_name': 'November',\n",
       "  'year': '2016',\n",
       "  'query_count': '32',\n",
       "  'query_text': 'fire'},\n",
       " {'month_name': 'December',\n",
       "  'year': '2016',\n",
       "  'query_count': '38',\n",
       "  'query_text': 'fire'}]"
      ]
     },
     "execution_count": 28,
     "metadata": {},
     "output_type": "execute_result"
    }
   ],
   "source": [
    "# Question 1. Make an API request that returns \n",
    "# the months where \"fire\" was searched in 2016. \n",
    "# Which month had the most searches?\n",
    "\n",
    "#endpoint above with SoQL\n",
    "endpoint_question_1 = 'https://data.nashville.gov/resource/fuaa-r5cm.json?year=2016&query_text=fire'\n",
    "\n",
    "response1 = requests.get(endpoint_question_1)\n",
    "answer_question_1 = response1.json()\n",
    "answer_question_1"
   ]
  },
  {
   "cell_type": "code",
   "execution_count": 29,
   "metadata": {},
   "outputs": [
    {
     "data": {
      "text/plain": [
       "[{'count_query_text': '1262'}]"
      ]
     },
     "execution_count": 29,
     "metadata": {},
     "output_type": "execute_result"
    }
   ],
   "source": [
    "# Question 2. Make an API request that returns all \n",
    "# the times a query was run more than 100 times in \n",
    "# a month. How many times did this occur?\n",
    "\n",
    "params2 = {'$select' : 'count(query_text)',\n",
    "          '$where' : 'query_count > 100',\n",
    "          '$limit' : '2000'}\n",
    "\n",
    "response2 = requests.get(endpoint, params = params2)\n",
    "answer_question_2 = response2.json()\n",
    "answer_question_2"
   ]
  },
  {
   "cell_type": "code",
   "execution_count": 30,
   "metadata": {},
   "outputs": [
    {
     "name": "stdout",
     "output_type": "stream",
     "text": [
      "56 times is the answer\n",
      "[{'month_name': 'September', 'year': '2015', 'query_count': '101', 'query_text': 'codes'}, {'month_name': 'April', 'month': '4', 'year': '2021', 'query_count': '102', 'query_text': 'codes'}, {'month_name': 'August', 'year': '2016', 'query_count': '104', 'query_text': 'codes'}, {'month_name': 'November', 'month': '11', 'year': '2020', 'query_count': '104', 'query_text': 'codes'}, {'month_name': 'December', 'year': '2017', 'query_count': '106', 'query_text': 'codes'}, {'month_name': 'May', 'year': '2016', 'query_count': '107', 'query_text': 'codes'}, {'month_name': 'April', 'year': '2016', 'query_count': '111', 'query_text': 'codes'}, {'month_name': 'July', 'month': '7', 'year': '2021', 'query_count': '114', 'query_text': 'codes'}, {'month_name': 'January', 'year': '2017', 'query_count': '115', 'query_text': 'codes'}, {'month_name': 'May', 'month': '5', 'year': '2021', 'query_count': '115', 'query_text': 'codes'}, {'month_name': 'August', 'year': '2015', 'query_count': '117', 'query_text': 'codes'}, {'month_name': 'February', 'year': '2016', 'query_count': '121', 'query_text': 'codes'}, {'month_name': 'February', 'month': '2', 'year': '2019', 'query_count': '124', 'query_text': 'codes'}, {'month_name': 'June', 'month': '6', 'year': '2019', 'query_count': '125', 'query_text': 'codes'}, {'month_name': 'September', 'month': '9', 'year': '2019', 'query_count': '126', 'query_text': 'codes'}, {'month_name': 'January', 'month': '1', 'year': '2019', 'query_count': '129', 'query_text': 'codes'}, {'month_name': 'September', 'month': '9', 'year': '2020', 'query_count': '130', 'query_text': 'codes'}, {'month_name': 'February', 'month': '2', 'year': '2021', 'query_count': '131', 'query_text': 'codes'}, {'month_name': 'March', 'month': '3', 'year': '2019', 'query_count': '133', 'query_text': 'codes'}, {'month_name': 'November', 'month': '11', 'year': '2019', 'query_count': '134', 'query_text': 'codes'}, {'month_name': 'March', 'month': '3', 'year': '2021', 'query_count': '134', 'query_text': 'codes'}, {'month_name': 'November', 'year': '2017', 'query_count': '138', 'query_text': 'codes'}, {'month_name': 'June', 'month': '6', 'year': '2021', 'query_count': '138', 'query_text': 'codes'}, {'month_name': 'October', 'month': '10', 'year': '2020', 'query_count': '139', 'query_text': 'codes'}, {'month_name': 'December', 'month': '12', 'year': '2019', 'query_count': '143', 'query_text': 'codes'}, {'month_name': 'February', 'year': '2017', 'query_count': '150', 'query_text': 'codes'}, {'month_name': 'August', 'month': '8', 'year': '2019', 'query_count': '156', 'query_text': 'codes'}, {'month_name': 'March', 'year': '2017', 'query_count': '158', 'query_text': 'codes'}, {'month_name': 'October', 'month': '10', 'year': '2019', 'query_count': '159', 'query_text': 'codes'}, {'month_name': 'July', 'month': '7', 'year': '2019', 'query_count': '161', 'query_text': 'codes'}, {'month_name': 'January', 'month': '1', 'year': '2020', 'query_count': '161', 'query_text': 'codes'}, {'month_name': 'March', 'month': '3', 'year': '2020', 'query_count': '164', 'query_text': 'codes'}, {'month_name': 'July', 'month': '7', 'year': '2020', 'query_count': '164', 'query_text': 'codes'}, {'month_name': 'December', 'month': '12', 'year': '2020', 'query_count': '165', 'query_text': 'codes'}, {'month_name': 'July', 'year': '2018', 'query_count': '166', 'query_text': 'codes'}, {'month_name': 'September', 'year': '2017', 'query_count': '168', 'query_text': 'codes'}, {'month_name': 'April', 'month': '4', 'year': '2019', 'query_count': '168', 'query_text': 'codes'}, {'month_name': 'April', 'year': '2018', 'query_count': '170', 'query_text': 'codes'}, {'month_name': 'September', 'year': '2018', 'query_count': '171', 'query_text': 'codes'}, {'month_name': 'October', 'year': '2018', 'query_count': '174', 'query_text': 'codes'}, {'month_name': 'August', 'month': '8', 'year': '2020', 'query_count': '178', 'query_text': 'codes'}, {'month_name': 'February', 'month': '2', 'year': '2020', 'query_count': '181', 'query_text': 'codes'}, {'month_name': 'May', 'year': '2018', 'query_count': '183', 'query_text': 'codes'}, {'month_name': 'May', 'month': '5', 'year': '2020', 'query_count': '184', 'query_text': 'codes'}, {'month_name': 'March', 'year': '2018', 'query_count': '185', 'query_text': 'codes'}, {'month_name': 'April', 'year': '2017', 'query_count': '190', 'query_text': 'codes'}, {'month_name': 'January', 'month': '1', 'year': '2021', 'query_count': '191', 'query_text': 'codes'}, {'month_name': 'June', 'year': '2017', 'query_count': '192', 'query_text': 'codes'}, {'month_name': 'November', 'year': '2018', 'query_count': '201', 'query_text': 'codes'}, {'month_name': 'June', 'year': '2018', 'query_count': '204', 'query_text': 'codes'}, {'month_name': 'October', 'year': '2017', 'query_count': '206', 'query_text': 'codes'}, {'month_name': 'June', 'month': '6', 'year': '2020', 'query_count': '208', 'query_text': 'codes'}, {'month_name': 'July', 'year': '2017', 'query_count': '215', 'query_text': 'codes'}, {'month_name': 'August', 'year': '2017', 'query_count': '222', 'query_text': 'codes'}, {'month_name': 'August', 'year': '2018', 'query_count': '225', 'query_text': 'codes'}, {'month_name': 'May', 'year': '2017', 'query_count': '269', 'query_text': 'codes'}]\n"
     ]
    }
   ],
   "source": [
    "# Question 3. Make another API request that returns all \n",
    "# the times \"codes\" was searched more than 100 times\n",
    "# in a month. How many times did this occur?\n",
    "\n",
    "# codes = 'codes'\n",
    "# hundred = '> 100'\n",
    "\n",
    "params3 = {'$where': 'query_count > 100',\n",
    "          'query_text': 'codes'}\n",
    "\n",
    "response_3 = requests.get(endpoint, params = params3)\n",
    "answer_3 = response_3.json()\n",
    "print(str(len(answer_3))+' times is the answer')\n",
    "print(answer_3)"
   ]
  },
  {
   "cell_type": "code",
   "execution_count": 31,
   "metadata": {},
   "outputs": [],
   "source": [
    "# Question 4. Make an API request that returns \n",
    "# the entire Top 500 Monthly Searches dataset. \n",
    "# Make a chart that shows the number of times \n",
    "# \"maps\" was searched in a month across the entire \n",
    "# time frame.\n",
    "\n"
   ]
  }
 ],
 "metadata": {
  "interpreter": {
   "hash": "039954eae3ecb3c6ebeda16353dc3e044347a670ad06775f60bcdc051314e748"
  },
  "kernelspec": {
   "display_name": "Python 3.8.5 ('geospatial')",
   "language": "python",
   "name": "python3"
  },
  "language_info": {
   "codemirror_mode": {
    "name": "ipython",
    "version": 3
   },
   "file_extension": ".py",
   "mimetype": "text/x-python",
   "name": "python",
   "nbconvert_exporter": "python",
   "pygments_lexer": "ipython3",
   "version": "3.9.7"
  },
  "orig_nbformat": 4
 },
 "nbformat": 4,
 "nbformat_minor": 2
}
