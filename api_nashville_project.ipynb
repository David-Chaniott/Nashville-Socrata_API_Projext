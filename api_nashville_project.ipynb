{
 "cells": [
  {
   "cell_type": "code",
   "execution_count": null,
   "metadata": {},
   "outputs": [],
   "source": [
    "import requests\n",
    "import pandas as pd"
   ]
  },
  {
   "cell_type": "code",
   "execution_count": null,
   "metadata": {},
   "outputs": [],
   "source": [
    "# nashville.gov dchaniott@gmail.com\n",
    "app_token = 'JrYJ8IS8gJi6OYRRvlnpMjR7o'\n",
    "# nashville.gov 500 top monthly searches\n",
    "endpoint = 'https://data.nashville.gov/resource/fuaa-r5cm.json'"
   ]
  },
  {
   "cell_type": "code",
   "execution_count": null,
   "metadata": {},
   "outputs": [],
   "source": [
    "# Question 1. Make an API request that returns \n",
    "# the months where \"fire\" was searched in 2016. \n",
    "# Which month had the most searches?\n",
    "\n",
    "#endpoint above with SoQL\n",
    "endpoint_question_1 = 'https://data.nashville.gov/resource/fuaa-r5cm.json?year=2016&query_text=fire'\n",
    "\n",
    "response1 = requests.get(endpoint_question_1)\n",
    "answer_question_1 = response1.json()\n",
    "answer_question_1"
   ]
  },
  {
   "cell_type": "code",
   "execution_count": null,
   "metadata": {},
   "outputs": [],
   "source": [
    "# Question 2. Make an API request that returns all \n",
    "# the times a query was run more than 100 times in \n",
    "# a month. How many times did this occur?\n",
    "\n",
    "params2 = {'$select' : 'count(query_text)',\n",
    "          '$where' : 'query_count > 100',\n",
    "          '$limit' : '2000'}\n",
    "\n",
    "response2 = requests.get(endpoint, params = params2)\n",
    "answer_question_2 = response2.json()\n",
    "answer_question_2"
   ]
  },
  {
   "cell_type": "code",
   "execution_count": null,
   "metadata": {},
   "outputs": [],
   "source": [
    "# Question 3. Make another API request that returns all \n",
    "# the times \"codes\" was searched more than 100 times\n",
    "# in a month. How many times did this occur?\n",
    "\n",
    "# codes = 'codes'\n",
    "# hundred = '> 100'\n",
    "\n",
    "params3 = {'$where': 'query_count > 100',\n",
    "          'query_text': 'codes'}\n",
    "\n",
    "response_3 = requests.get(endpoint, params = params3)\n",
    "answer_3 = response_3.json()\n",
    "print(str(len(answer_3))+' times is the answer')\n",
    "print(answer_3)"
   ]
  },
  {
   "cell_type": "code",
   "execution_count": null,
   "metadata": {},
   "outputs": [],
   "source": [
    "# Question 4. Make an API request that returns \n",
    "# the entire Top 500 Monthly Searches dataset. \n",
    "# Make a chart that shows the number of times \n",
    "# \"maps\" was searched in a month across the entire \n",
    "# time frame.\n",
    "\n"
   ]
  }
 ],
 "metadata": {
  "interpreter": {
   "hash": "039954eae3ecb3c6ebeda16353dc3e044347a670ad06775f60bcdc051314e748"
  },
  "kernelspec": {
   "display_name": "Python 3.8.5 ('geospatial')",
   "language": "python",
   "name": "python3"
  },
  "language_info": {
   "codemirror_mode": {
    "name": "ipython",
    "version": 3
   },
   "file_extension": ".py",
   "mimetype": "text/x-python",
   "name": "python",
   "nbconvert_exporter": "python",
   "pygments_lexer": "ipython3",
   "version": "3.9.7"
  },
  "orig_nbformat": 4
 },
 "nbformat": 4,
 "nbformat_minor": 2
}
